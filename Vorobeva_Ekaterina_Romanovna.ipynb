{
  "cells": [
    {
      "cell_type": "code",
      "execution_count": 3,
      "id": "1eeeeaea-e7d4-4756-9af9-a22178bd25bc",
      "metadata": {
        "colab": {
          "base_uri": "https://localhost:8080/"
        },
        "id": "1eeeeaea-e7d4-4756-9af9-a22178bd25bc",
        "outputId": "b1d45ff3-b2fc-4a58-f2fd-f413c3e1bf35"
      },
      "outputs": [
        {
          "name": "stdout",
          "output_type": "stream",
          "text": [
            "Defaulting to user installation because normal site-packages is not writeable\n",
            "Requirement already satisfied: psycopg2 in c:\\users\\екатерина\\appdata\\roaming\\python\\python313\\site-packages (2.9.10)\n"
          ]
        },
        {
          "name": "stderr",
          "output_type": "stream",
          "text": [
            "\n",
            "[notice] A new release of pip is available: 24.3.1 -> 25.0.1\n",
            "[notice] To update, run: python.exe -m pip install --upgrade pip\n"
          ]
        }
      ],
      "source": [
        "!pip install psycopg2"
      ]
    },
    {
      "cell_type": "code",
      "execution_count": 4,
      "id": "1661b68c-5297-46fe-901c-d61687d65893",
      "metadata": {
        "id": "1661b68c-5297-46fe-901c-d61687d65893"
      },
      "outputs": [],
      "source": [
        "import psycopg2\n",
        "from psycopg2 import Error"
      ]
    },
    {
      "cell_type": "code",
      "execution_count": 5,
      "id": "7397aa16-2f70-4096-b1bb-939cb0a4da4e",
      "metadata": {
        "id": "7397aa16-2f70-4096-b1bb-939cb0a4da4e"
      },
      "outputs": [
        {
          "name": "stdout",
          "output_type": "stream",
          "text": [
            "Информация о сервере PostgreSQL\n",
            "{'user': 'postgres', 'channel_binding': 'prefer', 'dbname': 'postgres', 'host': 'localhost', 'port': '5432', 'options': '', 'sslmode': 'prefer', 'sslcompression': '0', 'sslcertmode': 'allow', 'sslsni': '1', 'ssl_min_protocol_version': 'TLSv1.2', 'gssencmode': 'disable', 'krbsrvname': 'postgres', 'gssdelegation': '0', 'target_session_attrs': 'any', 'load_balance_hosts': 'disable'} \n",
            "\n",
            "Вы подключены к -  ('PostgreSQL 16.4, compiled by Visual C++ build 1940, 64-bit',) \n",
            "\n",
            "Соединение с PostgreSQL закрыто\n"
          ]
        }
      ],
      "source": [
        "try:\n",
        "    # Подключение к существующей базе данных\n",
        "    connection = psycopg2.connect(user=\"postgres\",\n",
        "                                  password=\"1703\",\n",
        "                                  host=\"localhost\",\n",
        "                                  port=\"5432\",\n",
        "                                  database=\"postgres\")\n",
        "\n",
        "    # Создание курсора для выполнения операций с базой данных\n",
        "    cursor = connection.cursor()\n",
        "    # Вывод информации о сервере PostgreSQL\n",
        "    print(\"Информация о сервере PostgreSQL\")\n",
        "    print(connection.get_dsn_parameters(), \"\\n\")\n",
        "    # Выполнение SQL-запроса\n",
        "    cursor.execute(\"SELECT version();\")\n",
        "    # Получение результата\n",
        "    record = cursor.fetchone()\n",
        "    print(\"Вы подключены к - \", record, \"\\n\")\n",
        "\n",
        "except (Exception, Error) as error:\n",
        "    print(\"Ошибка при подключении к PostgreSQL:\", error)\n",
        "finally:\n",
        "    if (connection):\n",
        "        cursor.close()\n",
        "        connection.close()\n",
        "        print(\"Соединение с PostgreSQL закрыто\")"
      ]
    },
    {
      "cell_type": "code",
      "execution_count": 6,
      "id": "fr1lsCmFIXtd",
      "metadata": {
        "id": "fr1lsCmFIXtd"
      },
      "outputs": [
        {
          "name": "stdout",
          "output_type": "stream",
          "text": [
            "Ошибка при подключении к PostgreSQL: ОШИБКА:  отношение \"mobile\" уже существует\n",
            "\n",
            "Соединение с PostgreSQL закрыто\n"
          ]
        }
      ],
      "source": [
        "try:\n",
        "    # Подключение к базе данных\n",
        "    connection = psycopg2.connect(user=\"postgres\",\n",
        "                                  password=\"1703\",\n",
        "                                  host=\"localhost\",\n",
        "                                  port=\"5432\",\n",
        "                                  database=\"postgres\")\n",
        "\n",
        "    cursor = connection.cursor()\n",
        "    # SQL-запрос для создания новой таблицы\n",
        "    create_table_query = '''CREATE TABLE mobile\n",
        "          (ID INT PRIMARY KEY     NOT NULL,\n",
        "          MODEL           TEXT    NOT NULL,\n",
        "          PRICE           REAL); '''\n",
        "    # Выполнение команды: создание новой таблицы\n",
        "    cursor.execute(create_table_query)\n",
        "    connection.commit()\n",
        "    print(\"Таблица успешно создана в PostgreSQL\")\n",
        "\n",
        "except (Exception, Error) as error:\n",
        "    print(\"Ошибка при подключении к PostgreSQL:\", error)\n",
        "finally:\n",
        "    if connection:\n",
        "        cursor.close()\n",
        "        connection.close()\n",
        "        print(\"Соединение с PostgreSQL закрыто\")"
      ]
    },
    {
      "cell_type": "code",
      "execution_count": null,
      "id": "pomyZP3TJRSD",
      "metadata": {
        "id": "pomyZP3TJRSD"
      },
      "outputs": [],
      "source": [
        "try:\n",
        "    # Подключение к базе данных\n",
        "    connection = psycopg2.connect(user=\"postgres\",\n",
        "                                  password=\"1703\",\n",
        "                                  host=\"localhost\",\n",
        "                                  port=\"5432\",\n",
        "                                  database=\"postgres\")\n",
        "\n",
        "    cursor = connection.cursor()\n",
        "    # Выполнение SQL-запроса для вставки данных в таблицу\n",
        "    insert_query = \"\"\" INSERT INTO mobile (ID, MODEL, PRICE) VALUES (1, 'Iphone12', 1100)\"\"\"\n",
        "    cursor.execute(insert_query)\n",
        "    connection.commit()\n",
        "    print(\"1 запись успешно вставлена\")\n",
        "\n",
        "    # Получение результатов\n",
        "    cursor.execute(\"SELECT * from mobile\")\n",
        "    record = cursor.fetchall()\n",
        "    print(\"Результат:\", record)\n",
        "\n",
        "    # Выполнение SQL-запроса для обновления данных в таблице\n",
        "    update_query = \"\"\"Update mobile set price = 1500 where id = 1\"\"\"\n",
        "    cursor.execute(update_query)\n",
        "    connection.commit()\n",
        "    count = cursor.rowcount\n",
        "    print(count, \"запись(ей) обновлено успешно\")\n",
        "\n",
        "    # Получение результатов\n",
        "    cursor.execute(\"SELECT * from mobile\")\n",
        "    print(\"Результат:\", cursor.fetchall())\n",
        "\n",
        "    # Выполнение SQL-запроса для удаления данных из таблицы\n",
        "    delete_query = \"\"\"Delete from mobile where id = 1\"\"\"\n",
        "    cursor.execute(delete_query)\n",
        "    connection.commit()\n",
        "    count = cursor.rowcount\n",
        "    print(count, \"запись(ей) удалено успешно\")\n",
        "\n",
        "    # Получение результатов\n",
        "    cursor.execute(\"SELECT * from mobile\")\n",
        "    print(\"Результат:\", cursor.fetchall())\n",
        "\n",
        "except (Exception, psycopg2.Error) as error:\n",
        "    print(\"Ошибка при подключении к PostgreSQL:\", error)\n",
        "finally:\n",
        "    if connection:\n",
        "        cursor.close()\n",
        "        connection.close()\n",
        "        print(\"Соединение с PostgreSQL закрыто\")"
      ]
    },
    {
      "cell_type": "markdown",
      "id": "fQSpwlIXNuVp",
      "metadata": {
        "id": "fQSpwlIXNuVp"
      },
      "source": [
        "# Practice 07. Упражнение/мини-проект\n",
        "Информационная система больницы"
      ]
    },
    {
      "cell_type": "markdown",
      "id": "2ded5a64-fe48-4931-b565-99a871ff0684",
      "metadata": {
        "id": "2ded5a64-fe48-4931-b565-99a871ff0684"
      },
      "source": [
        "## **Упражнение 1.** Подключитесь к серверу базы данных, создайте базу данных **medical_db** и таблицу **Hospital**"
      ]
    },
    {
      "cell_type": "markdown",
      "id": "aM9k6GYjbC3s",
      "metadata": {
        "id": "aM9k6GYjbC3s"
      },
      "source": [
        "**Упражнение 1*.** Создайте таблицу **Doctor** и заполните эту таблицу данными в Postgre SQL"
      ]
    },
    {
      "cell_type": "code",
      "execution_count": 10,
      "id": "ab4cbb76",
      "metadata": {},
      "outputs": [
        {
          "name": "stdout",
          "output_type": "stream",
          "text": [
            "База данных 'medical_db' успешно создана\n",
            "Соединение с PostgreSQL закрыто\n",
            "Таблица 'Hospital' успешно создана\n",
            "Данные успешно вставлены в таблицу 'Hospital'\n",
            "Соединение с PostgreSQL закрыто\n"
          ]
        }
      ],
      "source": [
        "import psycopg2\n",
        "\n",
        "def get_connection(database_name):\n",
        "    # Функция для получения подключения к базе данных\n",
        "    connection = psycopg2.connect(user=\"postgres\",\n",
        "                                  password=\"1703\",\n",
        "                                  host=\"localhost\",\n",
        "                                  port=\"5432\",\n",
        "                                  database=database_name)\n",
        "    return connection\n",
        "\n",
        "def close_connection(connection):\n",
        "    # Функция для закрытия подключения к базе данных\n",
        "    if connection:\n",
        "        connection.close()\n",
        "        print(\"Соединение с PostgreSQL закрыто\")\n",
        "\n",
        "try:\n",
        "    # Создание подключения к базе данных sql_case_bi_mgpu (база, с которой можно создавать другие базы)\n",
        "    connection = psycopg2.connect(user=\"postgres\",\n",
        "                                  password=\"1703\",\n",
        "                                  host=\"localhost\",\n",
        "                                  port=\"5432\",\n",
        "                                  database=\"postgres\")\n",
        "    connection.autocommit = True  # Отключаем транзакцию для команды CREATE DATABASE\n",
        "    cursor = connection.cursor()\n",
        "\n",
        "    # Создание базы данных\n",
        "    cursor.execute(\"CREATE DATABASE medical_db;\")\n",
        "    print(\"База данных 'medical_db' успешно создана\")\n",
        "\n",
        "    # Закрытие текущего соединения для подключения к новой базе данных\n",
        "    close_connection(connection)\n",
        "\n",
        "    # Подключение к новой базе данных 'medical_db'\n",
        "    connection = get_connection(\"medical_db\")\n",
        "    cursor = connection.cursor()\n",
        "\n",
        "    # Создание таблицы Hospital\n",
        "    create_table_query = '''\n",
        "    CREATE TABLE Hospital (\n",
        "        Hospital_Id serial NOT NULL PRIMARY KEY,\n",
        "        Hospital_Name VARCHAR (100) NOT NULL,\n",
        "        Bed_Count serial\n",
        "    );\n",
        "    '''\n",
        "    cursor.execute(create_table_query)\n",
        "    connection.commit()\n",
        "    print(\"Таблица 'Hospital' успешно создана\")\n",
        "\n",
        "    # Вставка данных в таблицу Hospital\n",
        "    insert_query = '''\n",
        "    INSERT INTO Hospital (Hospital_Id, Hospital_Name, Bed_Count)\n",
        "    VALUES\n",
        "    (1, 'Mayo Clinic', 200),\n",
        "    (2, 'Cleveland Clinic', 400),\n",
        "    (3, 'Johns Hopkins', 1000),\n",
        "    (4, 'UCLA Medical Center', 1500);\n",
        "    '''\n",
        "    cursor.execute(insert_query)\n",
        "    connection.commit()\n",
        "    print(\"Данные успешно вставлены в таблицу 'Hospital'\")\n",
        "\n",
        "except (Exception, psycopg2.Error) as error:\n",
        "    print(\"Ошибка при подключении или работе с PostgreSQL:\", error)\n",
        "\n",
        "finally:\n",
        "    # Закрытие подключения к базе данных\n",
        "    if connection:\n",
        "        close_connection(connection)"
      ]
    },
    {
      "cell_type": "code",
      "execution_count": 9,
      "id": "ah6fJSotbYrw",
      "metadata": {
        "id": "ah6fJSotbYrw"
      },
      "outputs": [
        {
          "ename": "SyntaxError",
          "evalue": "invalid syntax (595646471.py, line 1)",
          "output_type": "error",
          "traceback": [
            "  \u001b[36mCell\u001b[39m\u001b[36m \u001b[39m\u001b[32mIn[9]\u001b[39m\u001b[32m, line 1\u001b[39m\n\u001b[31m    \u001b[39m\u001b[31mCREATE TABLE Doctor (\u001b[39m\n           ^\n\u001b[31mSyntaxError\u001b[39m\u001b[31m:\u001b[39m invalid syntax\n"
          ]
        }
      ],
      "source": [
        "CREATE TABLE Doctor (\n",
        "    Doctor_Id serial NOT NULL PRIMARY KEY,\n",
        "    Doctor_Name VARCHAR (100) NOT NULL,\n",
        "    Hospital_Id serial NOT NULL,\n",
        "    Joining_Date DATE NOT NULL,\n",
        "    Speciality VARCHAR (100) NOT NULL,\n",
        "    Salary INTEGER NOT NULL,\n",
        "    Experience SMALLINT\n",
        ");\n",
        "\n",
        "-- Вставка данных о докторах\n",
        "INSERT INTO Doctor (Doctor_Id, Doctor_Name, Hospital_Id, Joining_Date, Speciality, Salary, Experience)\n",
        "VALUES\n",
        "('101', 'David', '1', '2005-02-10', 'Pediatric', 40000, NULL),\n",
        "('102', 'Michael', '1', '2018-07-23', 'Oncologist', 20000, NULL),\n",
        "('103', 'Susan', '2', '2016-05-19', 'Garnacologist', 25000, NULL),\n",
        "('104', 'Robert', '2', '2017-12-28', 'Pediatric', 28000, NULL),\n",
        "('105', 'Linda', '3', '2004-06-04', 'Garnacologist', 42000, NULL),\n",
        "('106', 'William', '3', '2012-09-11', 'Dermatologist', 30000, NULL),\n",
        "('107', 'Richard', '4', '2014-08-21', 'Garnacologist', 32000, NULL),\n",
        "('108', 'Karen', '4', '2011-10-17', 'Radiologist', 30000, NULL),\n",
        "('109', 'James', '1', '2022-01-15', 'Cardiologist', 45000, 5),\n",
        "('110', 'Emily', '1', '2023-04-10', 'Orthopedic Surgeon', 50000, 3),\n",
        "('111', 'Olivia', '2', '2021-09-05', 'Neurologist', 42000, 4),\n",
        "('112', 'John', '2', '2024-02-18', 'Surgeon', 60000, 2),\n",
        "('113', 'Sophia', '3', '2022-07-30', 'Urologist', 38000, 6),\n",
        "('114', 'Daniel', '3', '2025-03-22', 'Pulmonologist', 47000, 1),\n",
        "('115', 'Isabella', '4', '2023-11-01', 'Pediatrician', 41000, 3),\n",
        "('116', 'Liam', '4', '2022-05-25', 'Dermatologist', 35000, 4),\n",
        "('117', 'Mia', '1', '2024-06-17', 'Gastroenterologist', 53000, 2),\n",
        "('118', 'Lucas', '2', '2023-01-12', 'Anesthesiologist', 46000, 3);"
      ]
    },
    {
      "cell_type": "markdown",
      "id": "DME7-wMIeOjA",
      "metadata": {
        "id": "DME7-wMIeOjA"
      },
      "source": [
        "## **Упражнение 2.** Подключитесь к серверу базы данных и распечатайте его версию"
      ]
    },
    {
      "cell_type": "code",
      "execution_count": 11,
      "id": "MUdLS1v9emF-",
      "metadata": {
        "id": "MUdLS1v9emF-"
      },
      "outputs": [
        {
          "name": "stdout",
          "output_type": "stream",
          "text": [
            "Версия PostgreSQL: PostgreSQL 16.4, compiled by Visual C++ build 1940, 64-bit\n",
            "Соединение с PostgreSQL закрыто\n"
          ]
        }
      ],
      "source": [
        "import psycopg2\n",
        "\n",
        "def get_connection(database_name):\n",
        "    # Функция для получения подключения к базе данных\n",
        "    connection = psycopg2.connect(user=\"postgres\",\n",
        "                                  password=\"1703\",\n",
        "                                  host=\"localhost\",\n",
        "                                  port=\"5432\",\n",
        "                                  database=database_name)\n",
        "    return connection\n",
        "\n",
        "def close_connection(connection):\n",
        "    # Функция для закрытия подключения к базе данных\n",
        "    if connection:\n",
        "        connection.close()\n",
        "        print(\"Соединение с PostgreSQL закрыто\")\n",
        "\n",
        "try:\n",
        "    # Подключение к базе данных\n",
        "    database_name = 'medical_db'\n",
        "    connection = get_connection(database_name)\n",
        "    cursor = connection.cursor()\n",
        "\n",
        "    # Выполнение запроса для получения версии базы данных\n",
        "    cursor.execute(\"SELECT version();\")\n",
        "    db_version = cursor.fetchone()\n",
        "\n",
        "    # Вывод версии базы данных\n",
        "    print(\"Версия PostgreSQL:\", db_version[0])\n",
        "\n",
        "except (Exception, psycopg2.Error) as error:\n",
        "    print(\"Ошибка при подключении или работе с PostgreSQL:\", error)\n",
        "\n",
        "finally:\n",
        "    # Закрытие подключения\n",
        "    if connection:\n",
        "        close_connection(connection)"
      ]
    },
    {
      "cell_type": "markdown",
      "id": "_WB319WJOPzl",
      "metadata": {
        "id": "_WB319WJOPzl"
      },
      "source": [
        "## **Упражнение 3.** Получить информацию о больнице и врачах с использованием идентификаторов больницы и врача"
      ]
    },
    {
      "cell_type": "code",
      "execution_count": 12,
      "id": "TmuMx8JIgIus",
      "metadata": {
        "id": "TmuMx8JIgIus"
      },
      "outputs": [
        {
          "name": "stdout",
          "output_type": "stream",
          "text": [
            "Упражнение 3. Чтение информации о больнице и докторе\n",
            "\n",
            "Печать записи о больнице:\n",
            "Hospital Id: 2\n",
            "Hospital Name: Cleveland Clinic\n",
            "Bed Count: 400\n",
            "Соединение с PostgreSQL закрыто\n",
            "\n",
            "\n",
            "Печать записи о докторе:\n",
            "Doctor Id: 106\n",
            "Doctor Name: William\n",
            "Hospital Id: 3\n",
            "Joining Date: 2012-09-11\n",
            "Specialty: Dermatologist\n",
            "Salary: 30000\n",
            "Experience: None\n",
            "Соединение с PostgreSQL закрыто\n"
          ]
        }
      ],
      "source": [
        "def get_connection(database_name):\n",
        "    # Функция для получения подключения к базе данных\n",
        "    connection = psycopg2.connect(user=\"postgres\",\n",
        "                                  password=\"1703\",\n",
        "                                  host=\"localhost\",\n",
        "                                  port=\"5432\",\n",
        "                                  database=database_name)\n",
        "    return connection\n",
        "\n",
        "def close_connection(connection):\n",
        "    # Функция для закрытия подключения к базе данных\n",
        "    if connection:\n",
        "        connection.close()\n",
        "        print(\"Соединение с PostgreSQL закрыто\")\n",
        "\n",
        "def get_hospital_detail(hospital_id):\n",
        "    try:\n",
        "        # Подключаемся к базе данных medical_db\n",
        "        database_name = 'medical_db'\n",
        "        connection = get_connection(database_name)\n",
        "        cursor = connection.cursor()\n",
        "\n",
        "        # Запрос для получения информации о больнице\n",
        "        select_query = \"\"\"SELECT * FROM Hospital WHERE Hospital_Id = %s\"\"\"\n",
        "        cursor.execute(select_query, (hospital_id,))\n",
        "        records = cursor.fetchall()\n",
        "\n",
        "        # Вывод информации о больнице\n",
        "        print(\"Печать записи о больнице:\")\n",
        "        for row in records:\n",
        "            print(\"Hospital Id:\", row[0])\n",
        "            print(\"Hospital Name:\", row[1])\n",
        "            print(\"Bed Count:\", row[2])\n",
        "\n",
        "        # Закрытие подключения\n",
        "        close_connection(connection)\n",
        "    except (Exception, psycopg2.Error) as error:\n",
        "        print(\"Ошибка при получении данных:\", error)\n",
        "\n",
        "def get_doctor_detail(doctor_id):\n",
        "    try:\n",
        "        # Подключаемся к базе данных medical_db\n",
        "        database_name = 'medical_db'\n",
        "        connection = get_connection(database_name)\n",
        "        cursor = connection.cursor()\n",
        "\n",
        "        # Запрос для получения информации о докторе\n",
        "        select_query = \"\"\"SELECT * FROM Doctor WHERE Doctor_Id = %s\"\"\"\n",
        "        cursor.execute(select_query, (doctor_id,))\n",
        "        records = cursor.fetchall()\n",
        "\n",
        "        # Вывод информации о докторе\n",
        "        print(\"Печать записи о докторе:\")\n",
        "        for row in records:\n",
        "            print(\"Doctor Id:\", row[0])\n",
        "            print(\"Doctor Name:\", row[1])\n",
        "            print(\"Hospital Id:\", row[2])\n",
        "            print(\"Joining Date:\", row[3])\n",
        "            print(\"Specialty:\", row[4])\n",
        "            print(\"Salary:\", row[5])\n",
        "            print(\"Experience:\", row[6])\n",
        "\n",
        "        # Закрытие подключения\n",
        "        close_connection(connection)\n",
        "    except (Exception, psycopg2.Error) as error:\n",
        "        print(\"Ошибка при получении данных:\", error)\n",
        "\n",
        "# Запросить данные о больнице с ID 2 и докторе с ID 106\n",
        "print(\"Упражнение 3. Чтение информации о больнице и докторе\\n\")\n",
        "get_hospital_detail(2)\n",
        "print(\"\\n\")\n",
        "get_doctor_detail(106)"
      ]
    },
    {
      "cell_type": "markdown",
      "id": "qxUADXI1hSk9",
      "metadata": {
        "id": "qxUADXI1hSk9"
      },
      "source": [
        "## **Упражнение 4.** Получить список врачей по заданной специальности и зарплате"
      ]
    },
    {
      "cell_type": "code",
      "execution_count": 16,
      "id": "fUNYl3s8jf8o",
      "metadata": {
        "id": "fUNYl3s8jf8o"
      },
      "outputs": [
        {
          "name": "stdout",
          "output_type": "stream",
          "text": [
            "Вопрос 4: Получить список врачей по заданной специальности и зарплате\n",
            "\n",
            "Список врачей со специальностью Pediatric и зарплатой больше 20000: \n",
            "\n",
            "Идентификатор врача: 101\n",
            "Имя врача: David\n",
            "Идентификатор больницы: 1\n",
            "Дата поступления: 2005-02-10\n",
            "Специальность: Pediatric\n",
            "Зарплата: 40000\n",
            "Опыт: None\n",
            "\n",
            "Идентификатор врача: 104\n",
            "Имя врача: Robert\n",
            "Идентификатор больницы: 2\n",
            "Дата поступления: 2017-12-28\n",
            "Специальность: Pediatric\n",
            "Зарплата: 28000\n",
            "Опыт: None\n",
            "\n",
            "Соединение с PostgreSQL закрыто\n"
          ]
        }
      ],
      "source": [
        "import psycopg2\n",
        "\n",
        "def get_connection(database_name):\n",
        "    # Функция для получения подключения к базе данных\n",
        "    connection = psycopg2.connect(user=\"postgres\",\n",
        "                                  password=\"1703\",\n",
        "                                  host=\"localhost\",\n",
        "                                  port=\"5432\",\n",
        "                                  database=database_name)\n",
        "    return connection\n",
        "\n",
        "def close_connection(connection):\n",
        "    # Функция для закрытия подключения к базе данных\n",
        "    if connection:\n",
        "        connection.close()\n",
        "        print(\"Соединение с PostgreSQL закрыто\")\n",
        "\n",
        "# Подключаемся к базе данных medical_db\n",
        "database_name = 'medical_db'\n",
        "\n",
        "def get_specialist_doctors_list(speciality, salary):\n",
        "    try:\n",
        "        connection = get_connection(database_name)\n",
        "        cursor = connection.cursor()\n",
        "\n",
        "        # SQL-запрос для получения списка врачей по специальности и зарплате\n",
        "        sql_select_query = \"\"\"SELECT * FROM Doctor WHERE Speciality=%s AND Salary > %s\"\"\"\n",
        "        cursor.execute(sql_select_query, (speciality, salary))\n",
        "        records = cursor.fetchall()\n",
        "\n",
        "        # Выводим информацию о врачах с указанной специальностью и зарплатой выше заданной\n",
        "        print(f\"Список врачей со специальностью {speciality} и зарплатой больше {salary}: \\n\")\n",
        "        for row in records:\n",
        "            print(f\"Идентификатор врача: {row[0]}\")\n",
        "            print(f\"Имя врача: {row[1]}\")\n",
        "            print(f\"Идентификатор больницы: {row[2]}\")\n",
        "            print(f\"Дата поступления: {row[3]}\")\n",
        "            print(f\"Специальность: {row[4]}\")\n",
        "            print(f\"Зарплата: {row[5]}\")\n",
        "            print(f\"Опыт: {row[6]}\\n\")\n",
        "\n",
        "        # Закрытие подключения\n",
        "        close_connection(connection)\n",
        "    except (Exception, psycopg2.Error) as error:\n",
        "        print(\"Ошибка при получении данных:\", error)\n",
        "\n",
        "# Вопрос 4: Получение списка врачей по заданной специальности и зарплате\n",
        "print(\"Вопрос 4: Получить список врачей по заданной специальности и зарплате\\n\")\n",
        "get_specialist_doctors_list(\"Pediatric\", 20000)"
      ]
    },
    {
      "cell_type": "markdown",
      "id": "AqbFi3Qakpl0",
      "metadata": {
        "id": "AqbFi3Qakpl0"
      },
      "source": [
        "## **Упражнение 5.** Получить список врачей из определенной больницы"
      ]
    },
    {
      "cell_type": "code",
      "execution_count": 14,
      "id": "Rk9gkuVplsXu",
      "metadata": {
        "id": "Rk9gkuVplsXu"
      },
      "outputs": [
        {
          "name": "stdout",
          "output_type": "stream",
          "text": [
            "Упражнение 5. Получение списка врачей из определённой больницы\n",
            "\n",
            "\n",
            "Список врачей из больницы с ID 3:\n",
            "\n",
            "ID врача: 105\n",
            "Имя врача: Linda\n",
            "ID больницы: 3\n",
            "Дата начала работы: 2004-06-04\n",
            "Специальность: Garnacologist\n",
            "Зарплата: 42000\n",
            "Опыт: None \n",
            "\n",
            "ID врача: 106\n",
            "Имя врача: William\n",
            "ID больницы: 3\n",
            "Дата начала работы: 2012-09-11\n",
            "Специальность: Dermatologist\n",
            "Зарплата: 30000\n",
            "Опыт: None \n",
            "\n",
            "ID врача: 113\n",
            "Имя врача: Sophia\n",
            "ID больницы: 3\n",
            "Дата начала работы: 2022-07-30\n",
            "Специальность: Urologist\n",
            "Зарплата: 38000\n",
            "Опыт: 6 \n",
            "\n",
            "ID врача: 114\n",
            "Имя врача: Daniel\n",
            "ID больницы: 3\n",
            "Дата начала работы: 2025-03-22\n",
            "Специальность: Pulmonologist\n",
            "Зарплата: 47000\n",
            "Опыт: 1 \n",
            "\n",
            "Соединение с PostgreSQL закрыто\n"
          ]
        }
      ],
      "source": [
        "import psycopg2\n",
        "\n",
        "def get_connection(database_name):\n",
        "    # Функция для получения подключения к базе данных\n",
        "    connection = psycopg2.connect(user=\"postgres\",\n",
        "                                  password=\"1703\",\n",
        "                                  host=\"localhost\",\n",
        "                                  port=\"5432\",\n",
        "                                  database=database_name)\n",
        "    return connection\n",
        "\n",
        "def close_connection(connection):\n",
        "    # Функция для закрытия подключения к базе данных\n",
        "    if connection:\n",
        "        connection.close()\n",
        "        print(\"Соединение с PostgreSQL закрыто\")\n",
        "\n",
        "def get_doctors_by_hospital(hospital_id):\n",
        "    try:\n",
        "        # Подключаемся к базе данных medical_db\n",
        "        database_name = 'medical_db'\n",
        "        connection = get_connection(database_name)\n",
        "        cursor = connection.cursor()\n",
        "\n",
        "        # SQL-запрос для получения всех врачей из указанной больницы\n",
        "        select_query = \"\"\"SELECT * FROM Doctor WHERE Hospital_Id = %s\"\"\"\n",
        "        cursor.execute(select_query, (hospital_id,))\n",
        "        records = cursor.fetchall()\n",
        "\n",
        "        # Проверка и вывод результатов\n",
        "        print(f\"\\nСписок врачей из больницы с ID {hospital_id}:\\n\")\n",
        "        if records:\n",
        "            for row in records:\n",
        "                print(\"ID врача:\", row[0])\n",
        "                print(\"Имя врача:\", row[1])\n",
        "                print(\"ID больницы:\", row[2])\n",
        "                print(\"Дата начала работы:\", row[3])\n",
        "                print(\"Специальность:\", row[4])\n",
        "                print(\"Зарплата:\", row[5])\n",
        "                print(\"Опыт:\", row[6], \"\\n\")\n",
        "        else:\n",
        "            print(\"Врачи не найдены.\")\n",
        "\n",
        "        # Закрытие подключения\n",
        "        close_connection(connection)\n",
        "    except (Exception, psycopg2.Error) as error:\n",
        "        print(\"Ошибка при получении данных:\", error)\n",
        "\n",
        "# Вызов функции для больницы с ID 3\n",
        "print(\"Упражнение 5. Получение списка врачей из определённой больницы\\n\")\n",
        "get_doctors_by_hospital(3)"
      ]
    },
    {
      "cell_type": "markdown",
      "id": "6mzdPYvTmods",
      "metadata": {
        "id": "6mzdPYvTmods"
      },
      "source": [
        "## **Задание 6**. Обновить стаж врача в годах. Показать информацию до и после обновления."
      ]
    },
    {
      "cell_type": "markdown",
      "id": "w64bcUs5sdKu",
      "metadata": {
        "id": "w64bcUs5sdKu"
      },
      "source": [
        "Подготовка поля для обновления"
      ]
    },
    {
      "cell_type": "code",
      "execution_count": 17,
      "id": "LGGQFJdKsRfM",
      "metadata": {
        "id": "LGGQFJdKsRfM"
      },
      "outputs": [
        {
          "name": "stdout",
          "output_type": "stream",
          "text": [
            "Задание: Обновить стаж врачу с ID 101 на 3 года\n",
            "\n",
            "Стаж врача с ID 101 успешно обновлен на 3 лет\n",
            "\n",
            "Информация о докторе после обновления:\n",
            "Doctor Id: 101\n",
            "Doctor Name: David\n",
            "Hospital Id: 1\n",
            "Joining Date: 2005-02-10\n",
            "Speciality: Pediatric\n",
            "Salary: 40000\n",
            "Experience: 3\n",
            "Соединение с PostgreSQL закрыто\n"
          ]
        }
      ],
      "source": [
        "import psycopg2\n",
        "\n",
        "def get_connection(database_name):\n",
        "    # Функция для получения подключения к базе данных\n",
        "    connection = psycopg2.connect(user=\"postgres\",\n",
        "                                  password=\"1703\",\n",
        "                                  host=\"localhost\",\n",
        "                                  port=\"5432\",\n",
        "                                  database=database_name)\n",
        "    return connection\n",
        "\n",
        "def close_connection(connection):\n",
        "    # Функция для закрытия подключения к базе данных\n",
        "    if connection:\n",
        "        connection.close()\n",
        "        print(\"Соединение с PostgreSQL закрыто\")\n",
        "\n",
        "def update_experience(doctor_id, new_experience):\n",
        "    try:\n",
        "        # Подключаемся к базе данных\n",
        "        database_name = 'medical_db'\n",
        "        connection = get_connection(database_name)\n",
        "        cursor = connection.cursor()\n",
        "\n",
        "        # Обновляем стаж доктора с указанным ID\n",
        "        update_query = \"\"\"UPDATE Doctor SET Experience = %s WHERE Doctor_Id = %s\"\"\"\n",
        "        cursor.execute(update_query, (new_experience, doctor_id))\n",
        "        connection.commit()\n",
        "\n",
        "        print(f\"Стаж врача с ID {doctor_id} успешно обновлен на {new_experience} лет\")\n",
        "\n",
        "        # Печать данных о докторе после обновления\n",
        "        select_query = \"\"\"SELECT Doctor_Id, Doctor_Name, Hospital_Id, Joining_Date, Speciality, Salary, Experience\n",
        "                          FROM Doctor WHERE Doctor_Id = %s\"\"\"\n",
        "        cursor.execute(select_query, (doctor_id,))\n",
        "        doctor_record = cursor.fetchone()\n",
        "\n",
        "        if doctor_record:\n",
        "            print(\"\\nИнформация о докторе после обновления:\")\n",
        "            print(f\"Doctor Id: {doctor_record[0]}\")\n",
        "            print(f\"Doctor Name: {doctor_record[1]}\")\n",
        "            print(f\"Hospital Id: {doctor_record[2]}\")\n",
        "            print(f\"Joining Date: {doctor_record[3]}\")\n",
        "            print(f\"Speciality: {doctor_record[4]}\")\n",
        "            print(f\"Salary: {doctor_record[5]}\")\n",
        "            print(f\"Experience: {doctor_record[6]}\")\n",
        "\n",
        "        # Закрытие подключения\n",
        "        close_connection(connection)\n",
        "\n",
        "    except (Exception, psycopg2.Error) as error:\n",
        "        print(\"Ошибка при обновлении данных:\", error)\n",
        "\n",
        "# Обновим стаж врача с ID 101 на 3 года\n",
        "print(\"Задание: Обновить стаж врачу с ID 101 на 3 года\\n\")\n",
        "update_experience(101, 3)"
      ]
    },
    {
      "cell_type": "markdown",
      "id": "6rP_1fZjsXZR",
      "metadata": {
        "id": "6rP_1fZjsXZR"
      },
      "source": [
        "решение 6 задания"
      ]
    },
    {
      "cell_type": "code",
      "execution_count": 18,
      "id": "E0dzEiW8mzlG",
      "metadata": {
        "id": "E0dzEiW8mzlG"
      },
      "outputs": [
        {
          "name": "stdout",
          "output_type": "stream",
          "text": [
            "Задание 6. Обновить стаж врача в годах и показать до и после\n",
            "\n",
            "Текущий стаж (с учетом прошедших лет): 20 лет\n",
            "Соединение с PostgreSQL закрыто\n",
            "Стаж до обновления: 20 лет\n",
            "Текущий стаж (с учетом прошедших лет): 20 лет\n",
            "Соединение с PostgreSQL закрыто\n",
            "Стаж после обновления: 20 лет\n",
            "Соединение с PostgreSQL закрыто\n"
          ]
        }
      ],
      "source": [
        "import psycopg2\n",
        "from datetime import datetime\n",
        "\n",
        "def get_connection(database_name):\n",
        "    # Функция для получения подключения к базе данных\n",
        "    connection = psycopg2.connect(user=\"postgres\",\n",
        "                                  password=\"1703\",\n",
        "                                  host=\"localhost\",\n",
        "                                  port=\"5432\",\n",
        "                                  database=database_name)\n",
        "    return connection\n",
        "\n",
        "def close_connection(connection):\n",
        "    # Функция для закрытия подключения к базе данных\n",
        "    if connection:\n",
        "        connection.close()\n",
        "        print(\"Соединение с PostgreSQL закрыто\")\n",
        "\n",
        "def get_experience_in_years(doctor_id):\n",
        "    try:\n",
        "        # Подключаемся к базе данных medical_db\n",
        "        database_name = 'medical_db'\n",
        "        connection = get_connection(database_name)\n",
        "        cursor = connection.cursor()\n",
        "\n",
        "        # Запрос для получения информации о докторе\n",
        "        select_query = \"\"\"SELECT Joining_Date, Experience FROM Doctor WHERE Doctor_Id = %s\"\"\"\n",
        "        cursor.execute(select_query, (doctor_id,))\n",
        "        result = cursor.fetchone()\n",
        "\n",
        "        if result:\n",
        "            # Получаем дату присоединения и текущий опыт\n",
        "            joining_date, current_experience = result\n",
        "\n",
        "            # Если опыт уже установлен в базе данных, добавляем новые года\n",
        "            if current_experience is not None:\n",
        "                current_date = datetime.now()\n",
        "                # Рассчитываем, сколько лет прошло с момента последнего обновления стажа\n",
        "                years_since_last_update = current_date.year - (joining_date.year + current_experience)\n",
        "                # Учитываем месяц и день, чтобы избежать пересчета в том же году\n",
        "                if (current_date.month, current_date.day) < (joining_date.month, joining_date.day):\n",
        "                    years_since_last_update -= 1\n",
        "                new_experience = current_experience + years_since_last_update\n",
        "                print(f\"Текущий стаж (с учетом прошедших лет): {new_experience} лет\")\n",
        "                return new_experience\n",
        "            else:\n",
        "                # Если опыта нет, рассчитываем его с момента присоединения\n",
        "                current_date = datetime.now()\n",
        "                experience_years = current_date.year - joining_date.year - ((current_date.month, current_date.day) < (joining_date.month, joining_date.day))\n",
        "                print(f\"Расчитанный стаж: {experience_years} лет\")\n",
        "                return experience_years\n",
        "        else:\n",
        "            print(\"Доктор не найден\")\n",
        "            return None\n",
        "\n",
        "    except (Exception, psycopg2.Error) as error:\n",
        "        print(\"Ошибка при получении данных:\", error)\n",
        "        return None\n",
        "\n",
        "    finally:\n",
        "        # Закрытие подключения\n",
        "        close_connection(connection)\n",
        "\n",
        "def update_experience(doctor_id):\n",
        "    try:\n",
        "        # Получаем стаж до обновления\n",
        "        experience_before = get_experience_in_years(doctor_id)\n",
        "\n",
        "        if experience_before is None:\n",
        "            return\n",
        "\n",
        "        print(f\"Стаж до обновления: {experience_before} лет\")\n",
        "\n",
        "        # Подключаемся к базе данных\n",
        "        database_name = 'medical_db'\n",
        "        connection = get_connection(database_name)\n",
        "        cursor = connection.cursor()\n",
        "\n",
        "        # Обновляем стаж в базе данных\n",
        "        update_query = \"\"\"UPDATE Doctor SET Experience = %s WHERE Doctor_Id = %s\"\"\"\n",
        "        cursor.execute(update_query, (experience_before, doctor_id))\n",
        "        connection.commit()\n",
        "\n",
        "        # Получаем стаж после обновления\n",
        "        experience_after = get_experience_in_years(doctor_id)\n",
        "\n",
        "        print(f\"Стаж после обновления: {experience_after} лет\")\n",
        "\n",
        "        # Закрытие подключения\n",
        "        close_connection(connection)\n",
        "\n",
        "    except (Exception, psycopg2.Error) as error:\n",
        "        print(\"Ошибка при обновлении данных:\", error)\n",
        "\n",
        "# Вызов функции для обновления стажа врача с ID 101\n",
        "print(\"Задание 6. Обновить стаж врача в годах и показать до и после\\n\")\n",
        "update_experience(101)"
      ]
    },
    {
      "cell_type": "markdown",
      "id": "9f218191",
      "metadata": {},
      "source": [
        "## **Индивидуальное задание 1** Создайте таблицу \"Department\" с полями \"ID\", \"NAME\".\t"
      ]
    },
    {
      "cell_type": "code",
      "execution_count": null,
      "id": "632cd808",
      "metadata": {},
      "outputs": [
        {
          "name": "stdout",
          "output_type": "stream",
          "text": [
            "Таблица успешно создана в PostgreSQL\n",
            "Соединение с PostgreSQL закрыто\n"
          ]
        }
      ],
      "source": [
        "\n",
        "import psycopg2\n",
        "\n",
        "def get_connection(database_name):\n",
        "    # Функция для получения подключения к базе данных\n",
        "    connection = psycopg2.connect(user=\"postgres\",\n",
        "                                  password=\"1703\",\n",
        "                                  host=\"localhost\",\n",
        "                                  port=\"5432\",\n",
        "                                  database=database_name)\n",
        "    return connection\n",
        "\n",
        "def close_connection(connection):\n",
        "    # Функция для закрытия подключения к базе данных\n",
        "    if connection:\n",
        "        connection.close()\n",
        "        print(\"Соединение с PostgreSQL закрыто\")\n",
        "\n",
        "try:\n",
        "    # Подключение к базе данных\n",
        "    database_name = 'medical_db'\n",
        "    connection = get_connection(database_name)\n",
        "    cursor = connection.cursor()\n",
        "    \n",
        "    # SQL-запрос для создания новой таблицы\n",
        "    create_table_query = '''CREATE TABLE departament\n",
        "          (departament_id INT PRIMARY KEY NOT NULL,\n",
        "          name VARCHAR(100) NOT NULL); '''\n",
        "    # Выполнение команды: создание новой таблицы\n",
        "    cursor.execute(create_table_query)\n",
        "    connection.commit()\n",
        "    print(\"Таблица успешно создана в PostgreSQL\")\n",
        "\n",
        "except (Exception, Error) as error:\n",
        "    print(\"Ошибка при подключении к PostgreSQL:\", error)\n",
        "finally:\n",
        "    if connection:\n",
        "        close_connection(connection)"
      ]
    },
    {
      "cell_type": "markdown",
      "id": "5d4367da",
      "metadata": {},
      "source": [
        "## **Индивидуальное задание 2** Вставьте запись с новой моделью телефона в таблицу \"mobile\"."
      ]
    },
    {
      "cell_type": "code",
      "execution_count": 20,
      "id": "25318563",
      "metadata": {},
      "outputs": [
        {
          "name": "stdout",
          "output_type": "stream",
          "text": [
            "Телефон успешно добавлен в PostgreSQL\n",
            "Соединение с PostgreSQL закрыто\n"
          ]
        }
      ],
      "source": [
        "import psycopg2\n",
        "\n",
        "def get_connection(database_name):\n",
        "    # Функция для получения подключения к базе данных\n",
        "    connection = psycopg2.connect(user=\"postgres\",\n",
        "                                  password=\"1703\",\n",
        "                                  host=\"localhost\",\n",
        "                                  port=\"5432\",\n",
        "                                  database=database_name)\n",
        "    return connection\n",
        "\n",
        "def close_connection(connection):\n",
        "    # Функция для закрытия подключения к базе данных\n",
        "    if connection:\n",
        "        connection.close()\n",
        "        print(\"Соединение с PostgreSQL закрыто\")\n",
        "\n",
        "try:\n",
        "    # Подключение к базе данных\n",
        "    database_name = 'postgres'\n",
        "    connection = get_connection(database_name)\n",
        "    cursor = connection.cursor()\n",
        "\n",
        "    insert_query = '''INSERT INTO mobile (ID, MODEL, PRICE) VALUES (1, 'Iphone16', 150000) '''\n",
        "    cursor.execute(insert_query)\n",
        "    connection.commit()\n",
        "    print(\"Телефон успешно добавлен в PostgreSQL\")\n",
        "\n",
        "except (Exception, Error) as error:\n",
        "    print(\"Ошибка при подключении к PostgreSQL:\", error)\n",
        "finally:\n",
        "    if connection:\n",
        "        close_connection(connection)\n"
      ]
    },
    {
      "cell_type": "markdown",
      "id": "f3627016",
      "metadata": {},
      "source": [
        "## **Индивидуальное задание 3** Получите список всех докторов, работающих в больнице с ID=4."
      ]
    },
    {
      "cell_type": "code",
      "execution_count": 76,
      "id": "289b1ee4",
      "metadata": {},
      "outputs": [
        {
          "name": "stdout",
          "output_type": "stream",
          "text": [
            "\n",
            "Информация о докторах из 4 больницы:\n",
            "Doctor Id: 107\n",
            "Doctor Name: Richard\n",
            "Hospital Id: 4\n",
            "Joining Date: 2014-08-21\n",
            "Speciality: Garnacologist\n",
            "Salary: 32000\n",
            "Experience: None\n",
            "\n",
            "Информация о докторах из 4 больницы:\n",
            "Doctor Id: 108\n",
            "Doctor Name: Karen\n",
            "Hospital Id: 4\n",
            "Joining Date: 2011-10-17\n",
            "Speciality: Radiologist\n",
            "Salary: 30000\n",
            "Experience: None\n",
            "\n",
            "Информация о докторах из 4 больницы:\n",
            "Doctor Id: 115\n",
            "Doctor Name: Isabella\n",
            "Hospital Id: 4\n",
            "Joining Date: 2023-11-01\n",
            "Speciality: Pediatrician\n",
            "Salary: 41000\n",
            "Experience: 3\n",
            "\n",
            "Информация о докторах из 4 больницы:\n",
            "Doctor Id: 116\n",
            "Doctor Name: Liam\n",
            "Hospital Id: 4\n",
            "Joining Date: 2022-05-25\n",
            "Speciality: Dermatologist\n",
            "Salary: 35000\n",
            "Experience: 4\n",
            "Соединение с PostgreSQL закрыто\n"
          ]
        }
      ],
      "source": [
        "import psycopg2\n",
        "\n",
        "def get_connection(database_name):\n",
        "    # Функция для получения подключения к базе данных\n",
        "    connection = psycopg2.connect(user=\"postgres\",\n",
        "                                  password=\"1703\",\n",
        "                                  host=\"localhost\",\n",
        "                                  port=\"5432\",\n",
        "                                  database=database_name)\n",
        "    return connection\n",
        "\n",
        "def close_connection(connection):\n",
        "    # Функция для закрытия подключения к базе данных\n",
        "    if connection:\n",
        "        connection.close()\n",
        "        print(\"Соединение с PostgreSQL закрыто\")\n",
        "\n",
        "\n",
        "\n",
        "try:\n",
        "    # Подключение к базе данных\n",
        "    database_name = 'medical_db'\n",
        "    connection = get_connection(database_name)\n",
        "    cursor = connection.cursor()\n",
        "\n",
        "    sql_select_query = \"\"\"SELECT * FROM Doctor WHERE hospital_id = 4\"\"\"\n",
        "    cursor.execute(sql_select_query)\n",
        "    vrachi = cursor.fetchall()\n",
        "\n",
        "    if vrachi:\n",
        "        for vrach in vrachi:\n",
        "            print(\"\\nИнформация о докторах из 4 больницы:\")\n",
        "            print(f\"Doctor Id: {vrach[0]}\")\n",
        "            print(f\"Doctor Name: {vrach[1]}\")\n",
        "            print(f\"Hospital Id: {vrach[2]}\")\n",
        "            print(f\"Joining Date: {vrach[3]}\")\n",
        "            print(f\"Speciality: {vrach[4]}\")\n",
        "            print(f\"Salary: {vrach[5]}\")\n",
        "            print(f\"Experience: {vrach[6]}\")\n",
        "        \n",
        "\n",
        "            \n",
        "except (Exception, Error) as error:\n",
        "    print(\"Ошибка при подключении к PostgreSQL:\", error)\n",
        "\n",
        "finally:\n",
        "    close_connection(connection)\n",
        "\n",
        "\n",
        "\n",
        "\n"
      ]
    },
    {
      "cell_type": "markdown",
      "id": "8a7a89f2",
      "metadata": {},
      "source": [
        "## **Индивидуальное задание 4** Сохраните список врачей по специальности в новый CSV-файл."
      ]
    },
    {
      "cell_type": "code",
      "execution_count": null,
      "id": "2408c52d",
      "metadata": {},
      "outputs": [
        {
          "name": "stdout",
          "output_type": "stream",
          "text": [
            "Результаты успешно сохранены в doctors_report.csv\n",
            "Соединение с PostgreSQL закрыто\n"
          ]
        }
      ],
      "source": [
        "import psycopg2\n",
        "\n",
        "def get_connection(database_name):\n",
        "    # Функция для получения подключения к базе данных\n",
        "    connection = psycopg2.connect(user=\"postgres\",\n",
        "                                  password=\"1703\",\n",
        "                                  host=\"localhost\",\n",
        "                                  port=\"5432\",\n",
        "                                  database=database_name)\n",
        "    return connection\n",
        "\n",
        "def close_connection(connection):\n",
        "    # Функция для закрытия подключения к базе данных\n",
        "    if connection:\n",
        "        connection.close()\n",
        "        print(\"Соединение с PostgreSQL закрыто\")\n",
        "\n",
        "\n",
        "\n",
        "try:\n",
        "    # Подключение к базе данных\n",
        "    database_name = 'medical_db'\n",
        "    connection = get_connection(database_name)\n",
        "    cursor = connection.cursor()\n",
        "\n",
        "    spec = '''SELECT \n",
        "    speciality AS \"Специальность\",\n",
        "    COUNT(*) AS \"Количество врачей\",\n",
        "    STRING_AGG(doctor_name, ', ' ORDER BY doctor_name) AS \"Список врачей\"\n",
        "    FROM  doctor\n",
        "    GROUP BY speciality \n",
        "    ORDER BY COUNT(*) DESC, speciality '''\n",
        "\n",
        "    output_csv = \"doctors_report.csv\"\n",
        "    \n",
        "    copy_sql = f\"COPY ({spec}) TO STDOUT WITH CSV HEADER\"\n",
        "    \n",
        "    with open(output_csv, 'w', encoding='utf-8') as f:\n",
        "        cursor.copy_expert(copy_sql, f)\n",
        "    \n",
        "    print(f\"Результаты успешно сохранены в {output_csv}\")\n",
        "\n",
        "except (Exception, psycopg2.Error) as error:\n",
        "    print(\"Ошибка при работе с PostgreSQL:\", error)\n",
        "\n",
        "finally:\n",
        "    if 'connection' in locals():\n",
        "        close_connection(connection)\n"
      ]
    }
  ],
  "metadata": {
    "colab": {
      "provenance": []
    },
    "kernelspec": {
      "display_name": "Python 3",
      "language": "python",
      "name": "python3"
    },
    "language_info": {
      "codemirror_mode": {
        "name": "ipython",
        "version": 3
      },
      "file_extension": ".py",
      "mimetype": "text/x-python",
      "name": "python",
      "nbconvert_exporter": "python",
      "pygments_lexer": "ipython3",
      "version": "3.13.1"
    }
  },
  "nbformat": 4,
  "nbformat_minor": 5
}
